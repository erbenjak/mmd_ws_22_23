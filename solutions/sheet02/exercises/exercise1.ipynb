{
 "cells": [
  {
   "cell_type": "markdown",
   "metadata": {},
   "source": [
    "# Exercise 1\n"
   ]
  },
  {
   "cell_type": "code",
   "execution_count": 5,
   "metadata": {},
   "outputs": [],
   "source": [
    "import numpy as np\n",
    "from numpy import dot\n",
    "from numpy.linalg import norm\n",
    "\n",
    "def cosine_sim(a: np.ndarray, b: np.ndarray) -> float:\n",
    "    return dot(a, b)/(norm(a)*norm(b))\n",
    "\n",
    "\n",
    "A = np.array([3.06, 500, 6])\n",
    "B = np.array([2.68, 320, 4])\n",
    "C = np.array([2.92, 640, 6])\n",
    "\n",
    "\n",
    "lst = [A, B, C]\n",
    "pairs = [(a, b) for idx, a in enumerate(lst) for b in lst[idx + 1:]]"
   ]
  },
  {
   "cell_type": "markdown",
   "metadata": {},
   "source": [
    "## a)\n",
    "If $\\alpha = \\beta = 1$, all features keep the same values when scaling. So the cosinus similarity is given by"
   ]
  },
  {
   "cell_type": "code",
   "execution_count": 6,
   "metadata": {},
   "outputs": [
    {
     "name": "stdout",
     "output_type": "stream",
     "text": [
      "[(array([  3.06, 500.  ,   6.  ]), array([  2.68, 320.  ,   4.  ])), (array([  3.06, 500.  ,   6.  ]), array([  2.92, 640.  ,   6.  ])), (array([  2.68, 320.  ,   4.  ]), array([  2.92, 640.  ,   6.  ]))]\n",
      "0.9999973332836593\n",
      "0.9999953431214217\n",
      "0.9999878533753953\n"
     ]
    }
   ],
   "source": [
    "print(pairs)\n",
    "# (A, B), (A, C), (B, C)\n",
    "for (a,b) in pairs:\n",
    "    print(cosine_sim(a,b))\n"
   ]
  },
  {
   "cell_type": "markdown",
   "metadata": {},
   "source": [
    "## b)"
   ]
  },
  {
   "cell_type": "code",
   "execution_count": 7,
   "metadata": {},
   "outputs": [
    {
     "name": "stdout",
     "output_type": "stream",
     "text": [
      "Cosine Similarity\n",
      "Order: (A,B), (A,C), (B,C)\n",
      "0.9908815005407525\n",
      "0.9915547143332561\n",
      "0.9691779219936828\n"
     ]
    }
   ],
   "source": [
    "import copy\n",
    "lst_b = copy.deepcopy(lst)\n",
    "\n",
    "\n",
    "for i in lst_b:\n",
    "    i[1] = i[1]*0.01\n",
    "    i[2] = i[2]*0.5\n",
    "\n",
    "pair_b = [(a, b) for idx, a in enumerate(lst_b) for b in lst_b[idx + 1:]]\n",
    "\n",
    "print('Cosine Similarity')\n",
    "print ('Order: (A,B), (A,C), (B,C)')\n",
    "for (a,b) in pair_b:\n",
    "    print(cosine_sim(a,b))\n"
   ]
  },
  {
   "cell_type": "markdown",
   "metadata": {},
   "source": [
    "## c)"
   ]
  },
  {
   "cell_type": "code",
   "execution_count": 8,
   "metadata": {},
   "outputs": [
    {
     "name": "stdout",
     "output_type": "stream",
     "text": [
      "Averages\n",
      "[2.8866666666666667, 486.6666666666667, 5.333333333333333]\n",
      "Modified Feature List\n",
      "[array([1.06004619, 1.02739726, 1.125     ]), array([0.92840647, 0.65753425, 0.75      ]), array([1.01154734, 1.31506849, 1.125     ])]\n",
      "Cosine Similarity\n",
      "Order: (A,B), (A,C), (B,C)\n",
      "0.9898552787089425\n",
      "0.9915270798795555\n",
      "0.9692788619652404\n"
     ]
    }
   ],
   "source": [
    "# Average of features\n",
    "sum: list[float] = [0.0, 0.0, 0.0]\n",
    "for i in lst:\n",
    "    for j in range(i.size):\n",
    "        sum[j] += i[j]\n",
    "\n",
    "sum = list(map(lambda s: s/3, sum))\n",
    "print('Averages')\n",
    "print(sum)\n",
    "\n",
    "# Calculate scaled Feature values\n",
    "lst_c = copy.deepcopy(lst)\n",
    "for i in lst_c:\n",
    "    for j in range(3):\n",
    "        i[j] = i[j]*1/sum[j]\n",
    "\n",
    "print('Modified Feature List')\n",
    "print(lst_c)\n",
    "\n",
    "pair_c = [(a, b) for idx, a in enumerate(lst_c) for b in lst_c[idx + 1:]]\n",
    "\n",
    "print('Cosine Similarity')\n",
    "print ('Order: (A,B), (A,C), (B,C)')\n",
    "for (a,b) in pair_c:\n",
    "    print(cosine_sim(a,b))\n",
    "\n",
    "\n"
   ]
  },
  {
   "cell_type": "markdown",
   "metadata": {},
   "source": []
  }
 ],
 "metadata": {
  "kernelspec": {
   "display_name": "Python 3.10.2 64-bit",
   "language": "python",
   "name": "python3"
  },
  "language_info": {
   "codemirror_mode": {
    "name": "ipython",
    "version": 3
   },
   "file_extension": ".py",
   "mimetype": "text/x-python",
   "name": "python",
   "nbconvert_exporter": "python",
   "pygments_lexer": "ipython3",
   "version": "3.10.2"
  },
  "orig_nbformat": 4,
  "vscode": {
   "interpreter": {
    "hash": "369f2c481f4da34e4445cda3fffd2e751bd1c4d706f27375911949ba6bb62e1c"
   }
  }
 },
 "nbformat": 4,
 "nbformat_minor": 2
}
