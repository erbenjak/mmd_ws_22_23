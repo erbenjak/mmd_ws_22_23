{
 "cells": [
  {
   "cell_type": "code",
   "execution_count": 78,
   "metadata": {},
   "outputs": [],
   "source": [
    "# Exercise 3"
   ]
  },
  {
   "cell_type": "code",
   "execution_count": 79,
   "metadata": {},
   "outputs": [
    {
     "name": "stdout",
     "output_type": "stream",
     "text": [
      "[([4, 5, 0, 5, 1, 0, 3, 2], [0, 3, 4, 3, 1, 2, 1, 0]), ([4, 5, 0, 5, 1, 0, 3, 2], [2, 0, 1, 3, 0, 4, 5, 3]), ([0, 3, 4, 3, 1, 2, 1, 0], [2, 0, 1, 3, 0, 4, 5, 3])]\n"
     ]
    }
   ],
   "source": [
    "import numpy as np\n",
    "from numpy import dot\n",
    "from numpy.linalg import norm\n",
    "\n",
    "def cosine_sim(a: np.ndarray, b: np.ndarray) -> float:\n",
    "    return dot(a, b)/(norm(a)*norm(b))\n",
    "\n",
    "A = [4,5,0,5,1,0,3,2]\n",
    "B = [0,3,4,3,1,2,1,0]\n",
    "C = [2,0,1,3,0,4,5,3]\n",
    "\n",
    "lst = [A, B, C]\n",
    "pairs = [(a, b) for idx, a in enumerate(lst) for b in lst[idx + 1:]]\n",
    "\n",
    "print(pairs)\n"
   ]
  },
  {
   "cell_type": "code",
   "execution_count": 80,
   "metadata": {},
   "outputs": [
    {
     "name": "stdout",
     "output_type": "stream",
     "text": [
      "0.6010407640085653\n",
      "0.6149186938124421\n",
      "0.5138701197773616\n"
     ]
    }
   ],
   "source": [
    "# (A, B), (A, C), (B, C)\n",
    "for (a,b) in pairs:\n",
    "    print(cosine_sim(a,b))"
   ]
  },
  {
   "cell_type": "markdown",
   "metadata": {},
   "source": [
    "## d)"
   ]
  },
  {
   "cell_type": "code",
   "execution_count": 81,
   "metadata": {},
   "outputs": [
    {
     "name": "stdout",
     "output_type": "stream",
     "text": [
      "0.5773502691896258\n",
      "0.5\n",
      "0.2886751345948129\n"
     ]
    }
   ],
   "source": [
    "A = [1,1,0,1,0,0,1,0]\n",
    "B = [0,1,1,1,0,0,0,0]\n",
    "C = [0,0,0,1,0,1,1,1]\n",
    "\n",
    "lst = [A, B, C]\n",
    "pairs = [(a, b) for idx, a in enumerate(lst) for b in lst[idx + 1:]]\n",
    "\n",
    "# (A, B), (A, C), (B, C)\n",
    "for (a,b) in pairs:\n",
    "    print(cosine_sim(a,b))\n"
   ]
  },
  {
   "cell_type": "markdown",
   "metadata": {},
   "source": [
    "## e)\n"
   ]
  },
  {
   "cell_type": "code",
   "execution_count": 82,
   "metadata": {},
   "outputs": [
    {
     "name": "stdout",
     "output_type": "stream",
     "text": [
      "Avg A\n",
      "3.3333333333333335\n",
      "Avg B\n",
      "2.3333333333333335\n",
      "Avg C\n",
      "3.0\n",
      "Modified Lists: A, B, C\n",
      "[0.6666666666666665, 1.6666666666666665, 0, 1.6666666666666665, -2.3333333333333335, 0, -0.3333333333333335, -1.3333333333333335]\n",
      "[0, 0.6666666666666665, 1.6666666666666665, 0.6666666666666665, -1.3333333333333335, -0.3333333333333335, -1.3333333333333335, 0]\n",
      "[-1.0, 0, -2.0, 0.0, 0, 1.0, 2.0, 0.0]\n"
     ]
    }
   ],
   "source": [
    "# Get avg for each user and subtract it from the list\n",
    "\n",
    "A = [4,5,0,5,1,0,3,2]\n",
    "B = [0,3,4,3,1,2,1,0]\n",
    "C = [2,0,1,3,0,4,5,3]\n",
    "\n",
    "def avg_without_zero(temp: list[int]) -> float:\n",
    "    sum = 0\n",
    "    count = 0\n",
    "    for i in range(len(temp)):\n",
    "        if(temp[i] != 0):\n",
    "            sum += temp[i]\n",
    "            count += 1\n",
    "    return sum/count\n",
    "\n",
    "\n",
    "avgA = avg_without_zero(A)\n",
    "avgB = avg_without_zero(B)\n",
    "avgC = avg_without_zero(C)\n",
    "\n",
    "print('Avg A')\n",
    "print(avgA)\n",
    "\n",
    "print('Avg B')\n",
    "print(avgB)\n",
    "\n",
    "print('Avg C')\n",
    "print(avgC)\n",
    "\n",
    "A = [x - avgA if x != 0 else 0 for x in A]\n",
    "B = [x - avgB if x != 0 else 0 for x in B]\n",
    "C = [x - avgC if x != 0 else 0 for x in C]\n",
    "\n",
    "\n",
    "print('Modified Lists: A, B, C')\n",
    "print(A)\n",
    "print(B)\n",
    "print(C)\n",
    "\n",
    "\n",
    "\n"
   ]
  },
  {
   "cell_type": "markdown",
   "metadata": {},
   "source": [
    "# f)"
   ]
  },
  {
   "cell_type": "code",
   "execution_count": 83,
   "metadata": {},
   "outputs": [
    {
     "name": "stdout",
     "output_type": "stream",
     "text": [
      "Cosine Values\n",
      "0.5843065474681431\n",
      "-0.11547005383792518\n",
      "-0.7395739969534467\n"
     ]
    }
   ],
   "source": [
    "print('Cosine Values')\n",
    "lst = [A, B, C]\n",
    "pairs = [(a, b) for idx, a in enumerate(lst) for b in lst[idx + 1:]]\n",
    "\n",
    "# (A, B), (A, C), (B, C)\n",
    "for (a,b) in pairs:\n",
    "    print(cosine_sim(a,b))\n"
   ]
  }
 ],
 "metadata": {
  "kernelspec": {
   "display_name": "Python 3.10.2 64-bit",
   "language": "python",
   "name": "python3"
  },
  "language_info": {
   "codemirror_mode": {
    "name": "ipython",
    "version": 3
   },
   "file_extension": ".py",
   "mimetype": "text/x-python",
   "name": "python",
   "nbconvert_exporter": "python",
   "pygments_lexer": "ipython3",
   "version": "3.10.2"
  },
  "orig_nbformat": 4,
  "vscode": {
   "interpreter": {
    "hash": "369f2c481f4da34e4445cda3fffd2e751bd1c4d706f27375911949ba6bb62e1c"
   }
  }
 },
 "nbformat": 4,
 "nbformat_minor": 2
}
