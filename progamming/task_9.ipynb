{
 "cells": [
  {
   "cell_type": "markdown",
   "source": [
    "# Exercise Sheet Nr. 9"
   ],
   "metadata": {
    "collapsed": false
   }
  },
  {
   "cell_type": "markdown",
   "source": [
    "## Task 1\n",
    "\n",
    "We can work our way backwards by using the formula provided in the book.\n",
    "\n",
    "We know that i=1: results in 19 pairs and i=2 results in 18 pairs. Hence,\n",
    "the sum is 19+18+17+16+15+14 is equal to 99 values , hence we know that\n",
    "i = 7 in the formula. we further know that k=100 and n=20.\n",
    "\n",
    "$100 = 6 * 16.5 -7 + j$.\n",
    "\n",
    "$100 = 92 + j$ .\n",
    "\n",
    "$8 = j$\n",
    "\n",
    "Therfore the pair of values is [7,8] which makes sense as there are 99\n",
    "values with $i\\leq6$ and [7,8] is the smallest value pair for $i\\geq6$.\n"
   ],
   "metadata": {
    "collapsed": false
   }
  },
  {
   "cell_type": "markdown",
   "source": [
    "## Task 2\n",
    "\n",
    "### a)\n",
    "\n",
    "Firstly we determine the individual support values - denoted by s():\n",
    "s(1)=4,\n",
    "s(2)=6,\n",
    "s(3)=8,\n",
    "s(4)=8,\n",
    "s(5)=6,\n",
    "s(6)=4\n",
    "\n",
    "Then we determine the values for all pairs - again denoted by s():\n",
    "s(1,2)= 2, s(1,3)= 3, s(1,4)= 2, s(1,5)= 1, s(1,6)= 0,\n",
    "s(2,3)= 3, s(2,4)= 4, s(2,5)= 2, s(2,6)= 1,\n",
    "s(3,4)= 4, s(3,5)= 4, s(3,6)= 2,\n",
    "s(4,5)= 3, s(4,6)= 3,\n",
    "s(5,6)= 2\n",
    "\n",
    "### b)\n",
    "The following 10 buckets as well as the associated pairs are displayed below:\n",
    "0  = []\n",
    "1  = [(2,6),(3,4)]\n",
    "2  = [(1,2),(4,6)]\n",
    "3  = [(1,3)]\n",
    "4  = [(1,4),(3,5)]\n",
    "5  = [(1,5)]\n",
    "6  = [(1,6),(2,3)]\n",
    "7  = [(3,6)]\n",
    "8  = [(2,4),(5,6)]\n",
    "9  = [(4,5)]\n",
    "10 = [(2,5)]\n",
    "\n",
    "### c)\n",
    "The following 10 buckets as well as the associated pairs are displayed below:\n",
    "0  = 0\n",
    "1  = 1 + 4 = 5\n",
    "2  = 2 + 3 = 5\n",
    "3  = 3\n",
    "4  = 2 + 4 = 6\n",
    "5  = 1\n",
    "6  = 0 + 3 = 3\n",
    "7  = 2\n",
    "8  = 4 + 2 = 6\n",
    "9  = 3\n",
    "10 = 2\n",
    "\n",
    "Hence, the buckets 1,2,4 and 8 are the frequent ones.\n",
    "\n",
    "### d)\n",
    "We only count the pairs which are associated with the frequent buckets. Namely:\n",
    "(2,6), (3,4), (1,2), (4,6), (1,4), (3,5), (2,4), (5,6)"
   ],
   "metadata": {
    "collapsed": false
   }
  },
  {
   "cell_type": "markdown",
   "source": [
    "## Task 3\n",
    "\n",
    "We have the following buckets (0-8) and into them, we will hash only the frequent\n",
    "pairs from the first hash they can be seen under d) above. The following shows the\n",
    "different counts of the bucket:\n",
    "\n",
    "0  = [] = 0\n",
    "1  = [] = 0\n",
    "2  = [(1,2)] = 2\n",
    "3  = [(2,6), (3,4), (5,6)] = 1 + 4 + 2 = 7\n",
    "4  = [(1,4)] = 2\n",
    "5  = []\n",
    "6  = [(4,6), (3,5)] = 3 + 4 = 7\n",
    "7  = []\n",
    "8  = [(2,4)] = 4\n",
    "\n",
    "The possible candidate pairs are reduced by (1,2) and (1,4) as they both hash\n",
    "to a buckets, whose count does not reach the support threshold.\n"
   ],
   "metadata": {
    "collapsed": false
   }
  },
  {
   "cell_type": "markdown",
   "source": [
    "## Task 4\n",
    "\n",
    "In task 8 there are only 8 pairs left for consideration this can only be reached using a support threshold of 15, which leaves no pairs behind.\n",
    "A more reasonable threshold would be 6 which leaves 9 pairs behind. However, this result is not all to surprising. As reducing the number of buckets\n",
    "can only increase the threshold."
   ],
   "metadata": {
    "collapsed": false
   }
  },
  {
   "cell_type": "code",
   "execution_count": 2,
   "outputs": [
    {
     "name": "stdout",
     "output_type": "stream",
     "text": [
      "Afterwards the following pairs are left over: [(1, 2), (1, 3), (1, 4), (1, 5), (2, 3), (2, 4), (2, 5), (2, 6), (3, 4), (3, 5), (3, 6), (4, 5), (4, 6), (5, 6)]\n",
      "Tested the candidate threshold of: 1\n",
      "Afterwards the following pairs are left over: [(1, 2), (1, 3), (1, 4), (1, 5), (2, 3), (2, 4), (2, 5), (2, 6), (3, 4), (3, 5), (3, 6), (4, 5), (4, 6), (5, 6)]\n",
      "Tested the candidate threshold of: 2\n",
      "Afterwards the following pairs are left over: [(1, 2), (1, 3), (1, 4), (2, 3), (2, 4), (2, 5), (3, 4), (3, 5), (3, 6), (4, 5), (4, 6), (5, 6)]\n",
      "Tested the candidate threshold of: 3\n",
      "Afterwards the following pairs are left over: [(1, 2), (1, 3), (1, 4), (2, 3), (2, 4), (2, 5), (3, 4), (3, 5), (3, 6), (4, 5), (4, 6), (5, 6)]\n",
      "Tested the candidate threshold of: 4\n",
      "Afterwards the following pairs are left over: [(1, 2), (1, 3), (1, 4), (2, 3), (2, 4), (2, 5), (3, 4), (3, 5), (3, 6), (4, 5), (4, 6), (5, 6)]\n",
      "Tested the candidate threshold of: 5\n",
      "Afterwards the following pairs are left over: [(1, 2), (1, 3), (1, 4), (2, 3), (2, 4), (2, 5), (3, 4), (3, 5), (3, 6), (4, 5), (4, 6), (5, 6)]\n",
      "Tested the candidate threshold of: 6\n",
      "Afterwards the following pairs are left over: [(1, 2), (1, 3), (2, 3), (2, 4), (3, 4), (3, 5), (4, 5), (4, 6), (5, 6)]\n",
      "Tested the candidate threshold of: 7\n",
      "Afterwards the following pairs are left over: [(1, 2), (1, 3), (2, 3), (2, 4), (3, 4), (3, 5), (4, 5), (4, 6), (5, 6)]\n",
      "Tested the candidate threshold of: 8\n",
      "Afterwards the following pairs are left over: [(1, 2), (1, 3), (2, 3), (2, 4), (3, 4), (3, 5), (4, 5), (4, 6), (5, 6)]\n",
      "Tested the candidate threshold of: 9\n",
      "Afterwards the following pairs are left over: [(1, 2), (1, 3), (2, 3), (2, 4), (3, 4), (3, 5), (4, 5), (4, 6), (5, 6)]\n",
      "Tested the candidate threshold of: 10\n",
      "Afterwards the following pairs are left over: [(1, 2), (1, 3), (2, 3), (2, 4), (3, 4), (3, 5), (4, 5), (4, 6), (5, 6)]\n",
      "Tested the candidate threshold of: 11\n",
      "Afterwards the following pairs are left over: [(1, 2), (1, 3), (2, 3), (2, 4), (3, 4), (3, 5), (4, 5), (4, 6), (5, 6)]\n",
      "Tested the candidate threshold of: 12\n",
      "Afterwards the following pairs are left over: [(1, 2), (1, 3), (2, 3), (2, 4), (3, 4), (3, 5), (4, 5), (4, 6), (5, 6)]\n",
      "Tested the candidate threshold of: 13\n",
      "Afterwards the following pairs are left over: [(1, 2), (1, 3), (2, 3), (2, 4), (3, 4), (3, 5), (4, 5), (4, 6), (5, 6)]\n",
      "Tested the candidate threshold of: 14\n",
      "The correct support threshold is :15\n",
      "Afterwards the following pairs are left over: []\n"
     ]
    }
   ],
   "source": [
    "# since this else would become quite large we will simply assume that we are allowed to programm here\n",
    "pairs = [(1,2), (1,3),  (1,4),  (1,5),  (1,6),  (2,3),  (2,4),  (2,5),  (2,6),  (3,4),  (3,5),  (3,6),  (4,5),  (4,6),  (5,6)]\n",
    "support_pairs = {(1,2):2, (1,3):3,  (1,4):2,  (1,5):1,  (1,6):0,  (2,3):3,  (2,4):4,  (2,5):2,\n",
    "                 (2,6):1,  (3,4):4,  (3,5):4,  (3,6):2,  (4,5):3,  (4,6):3,  (5,6):2}\n",
    "# since we want to compute the correct support threshold we will iterate over different ones till we find\n",
    "# the correct one. This is tricky as the threshold has to be considered in both phases.\n",
    "thresholdNotFound = True\n",
    "candidateTH = 1\n",
    "while thresholdNotFound:\n",
    "    buckets = {}\n",
    "    pairs_copy = pairs.copy()\n",
    "\n",
    "    for i in range(0,5):\n",
    "        buckets[i]=[]\n",
    "\n",
    "    #first hash\n",
    "    for pair in pairs_copy:\n",
    "        hashIndex = (2 * pair[0] + 3 * pair[1] + 4) % 5\n",
    "        buckets[hashIndex].append(pair)\n",
    "\n",
    "    for i in range(0,5):\n",
    "        support_bucket = 0\n",
    "        for pair in buckets[i]:\n",
    "            support_bucket = support_bucket +support_pairs[pair]\n",
    "\n",
    "        if support_bucket < candidateTH:\n",
    "            for pair in buckets[i]:\n",
    "                pairs_copy.remove(pair)\n",
    "        buckets[i]=[]\n",
    "\n",
    "    ###repeat for second hash\n",
    "    #first hash\n",
    "    for pair in pairs_copy:\n",
    "        hashIndex = (pair[0] + 4 * pair[1]) % 5\n",
    "        buckets[hashIndex].append(pair)\n",
    "\n",
    "    for i in range(0,5):\n",
    "        support_bucket = 0\n",
    "        for pair in buckets[i]:\n",
    "            support_bucket = support_bucket + support_pairs[pair]\n",
    "\n",
    "        if support_bucket < candidateTH:\n",
    "            for pair in buckets[i]:\n",
    "                pairs_copy.remove(pair)\n",
    "\n",
    "\n",
    "    if len(pairs_copy) <= 8:\n",
    "        thresholdNotFound = False\n",
    "        pairs = pairs_copy\n",
    "    else:\n",
    "        print('Afterwards the following pairs are left over: ' + str(pairs_copy))\n",
    "        print('Tested the candidate threshold of: '+str(candidateTH))\n",
    "        candidateTH +=1\n",
    "print('The correct support threshold is :'+str(candidateTH))\n",
    "print('Afterwards the following pairs are left over: '+str(pairs))"
   ],
   "metadata": {
    "collapsed": false
   }
  },
  {
   "cell_type": "markdown",
   "source": [
    "## Task 5\n",
    "\n",
    "### a)\n",
    "P(c1 and c2 match) = P(c1 and c2 have the same answers to any questionair) = 1 - P(c1 and c2 have no matching questionair)\n",
    "1 - P(c1 and c2 have no matching for q_i)^b\n",
    "\n",
    "to complete this we need to know that the porbability that c1 and c2 do not match for some given questionair:\n",
    "P(c1 and c2 have no matching for q_i) = 1-(p^r)\n",
    "\n",
    "Hence, we can complete the formula to\n",
    "P(c1 and c2 match)=$1-((1-(p^r))^b)$\n",
    "\n",
    "### b)\n",
    "P(c1 and c2 match in 2 questionairs) = 1- P(c1 and c2 do not match) -P(c1 and c2 match only exactly one)\n",
    "\n",
    "We can follow P(c1 and c2 do not match)=$(1-(p^r))^b$ from a)\n",
    "\n",
    "P(c1 and c2 match only exactly one) = P(no match for q_i)^b-1 * P(match for q_i)= $(1-(p^r))^{b-1}(p^r)$\n",
    "\n",
    "now we can combine to receive:\n",
    "\n",
    "P(c1 and c2 match in 2 questionairs) = $1- (1-(p^r))^b - (1-(p^r))^{b-1}(p^r)$\n",
    "\n"
   ],
   "metadata": {
    "collapsed": false
   }
  },
  {
   "cell_type": "markdown",
   "source": [
    "## Task 6\n",
    "\n",
    "Please see the included image for the solution\n"
   ],
   "metadata": {
    "collapsed": false
   }
  },
  {
   "cell_type": "markdown",
   "source": [
    "## Task 7\n",
    "\n",
    "### 1)\n",
    "This can certainly not be the one as there are 3 y's and B's budget can therefore not be used up.\n",
    "\n",
    "### 2)\n",
    "This is not it as for the first x A could be picked. The following two y's would hence\n",
    "not fit into A's budget anymore. However, it is possible that both budgets are used up, but this is\n",
    "not necessarily the case.\n",
    "\n",
    "### 3)\n",
    "This is the one, as A must be picked for the first 2 queries and since B can be used for the last 2.\n",
    "\n",
    "### 4)\n",
    "This is also not the one, as B could be picked for the first x, making the trailing 2 z's an impossible\n",
    "situation.\n",
    "\n"
   ],
   "metadata": {
    "collapsed": false
   }
  },
  {
   "cell_type": "markdown",
   "source": [
    "## Task 8\n",
    "\n",
    "### a)\n",
    "The advertisers are picked in the following order:\n",
    "\n",
    "A1 - A2 - A3 - A2 - A4 - A1 - A3 - A4 - A3 - A1 - A4\n",
    "\n",
    "Since this solves the problem optimally and is deterministic we know that the\n",
    "competitive ratio is 1.\n",
    "\n",
    "### b)\n",
    "We can arrange the queries as follows:\n",
    "Q1 - Q1 - Q1 - Q1 (this sets A1 and A4 to a budget of 1)\n",
    "Q4 - Q4 - Q2 - Q2 (this sets A2 and A3 to a budget of 1)\n",
    "Q3 - Q3 (this sets A2 and A3 to 0)\n",
    "Q3 (this query is then the one which can not be assigned)\n"
   ],
   "metadata": {
    "collapsed": false
   }
  }
 ],
 "metadata": {
  "kernelspec": {
   "display_name": "Python 3",
   "language": "python",
   "name": "python3"
  },
  "language_info": {
   "codemirror_mode": {
    "name": "ipython",
    "version": 2
   },
   "file_extension": ".py",
   "mimetype": "text/x-python",
   "name": "python",
   "nbconvert_exporter": "python",
   "pygments_lexer": "ipython2",
   "version": "2.7.6"
  }
 },
 "nbformat": 4,
 "nbformat_minor": 0
}
