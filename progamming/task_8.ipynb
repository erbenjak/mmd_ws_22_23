{
 "cells": [
  {
   "cell_type": "markdown",
   "source": [
    "# Exercise Sheet ## 8"
   ],
   "metadata": {
    "collapsed": false
   }
  },
  {
   "cell_type": "markdown",
   "source": [
    "## Task 1\n",
    "\n",
    "**To show:** $\\sum_{k=0}^N \\binom{N}{k} = 2^N$\n",
    "\n",
    "**Proof:**\n",
    "For the binomial theorem it holds: $ (a + b)^n = \\sum_{k=0}^n \\binom{n}{k} a^{n-k} \\cdot b^k $.\n",
    "So for $a = 1, b = 1, n = N$ we get: $2^N = (1 + 1)^N = \\sum_{k=0}^N \\binom{N}{k} 1^{N-k} \\cdot 1^k = \\sum_{k=0}^N \\binom{N}{k}$\n"
   ],
   "metadata": {
    "collapsed": false
   }
  },
  {
   "cell_type": "markdown",
   "source": [
    "## Task 2\n",
    "\n",
    "a)\n"
   ],
   "metadata": {
    "collapsed": false
   }
  }
 ],
 "metadata": {
  "kernelspec": {
   "display_name": "Python 3",
   "language": "python",
   "name": "python3"
  },
  "language_info": {
   "codemirror_mode": {
    "name": "ipython",
    "version": 2
   },
   "file_extension": ".py",
   "mimetype": "text/x-python",
   "name": "python",
   "nbconvert_exporter": "python",
   "pygments_lexer": "ipython2",
   "version": "2.7.6"
  }
 },
 "nbformat": 4,
 "nbformat_minor": 0
}
