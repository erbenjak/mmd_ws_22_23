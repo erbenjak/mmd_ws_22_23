{
 "cells": [
  {
   "cell_type": "markdown",
   "source": [
    "# Exercise Sheet ## 8"
   ],
   "metadata": {
    "collapsed": false
   }
  },
  {
   "cell_type": "markdown",
   "source": [
    "## Task 1\n",
    "\n",
    "**To show:** $\\sum_{k=0}^N \\binom{N}{k} = 2^N$\n",
    "\n",
    "**Proof:**\n",
    "For the binomial theorem it holds: $ (a + b)^n = \\sum_{k=0}^n \\binom{n}{k} a^{n-k} \\cdot b^k $.\n",
    "So for $a = 1, b = 1, n = N$ we get: $2^N = (1 + 1)^N = \\sum_{k=0}^N \\binom{N}{k} 1^{N-k} \\cdot 1^k = \\sum_{k=0}^N \\binom{N}{k}$\n"
   ],
   "metadata": {
    "collapsed": false
   }
  },
  {
   "cell_type": "markdown",
   "source": [
    "## Task 2\n",
    "\n",
    "a)\n",
    "If a single-item-set $\\{c\\}$ with $c \\in \\{1, \\dots, 100\\}$ is frequent, it has to be at least in five buckets. This means more or less, that the number $c$ has to have at least 5 multiples with a lower value than 100. So for each value $c \\leq 20$, $c$ has five multiples $\\leq 100$. For example $c = \\{21\\}$ wouldn't have 5 multiples within the range and thus wouldn't reach the threshhold of 5. So all single-item-sets $\\{c\\}$ with $c \\in \\{1, \\dots, 20\\}$ are frequent.\n",
    "\n",
    "b)\n",
    "If a pair of items $\\{a, b\\}$ with $a, b \\in \\{1, \\dots, 100\\}$ is frequent, both pairs have to appear together in at least 5 buckets. That's the case, if the least common multiple (kgV in german) is below 20. For each multiple of the kgV, both $a$ and $b$ appear together in the corresponding bucket, since they are a multiple of the kgV which is a remainder of the multiple of the kgV. Also, they don't appear in any different bucket together. So if the kgV is above 20, $a$ and $b$ will be in less than five sets together, which means they aren't frequent. So the solution is:"
   ],
   "metadata": {
    "collapsed": false
   }
  },
  {
   "cell_type": "code",
   "execution_count": 16,
   "outputs": [
    {
     "name": "stdout",
     "output_type": "stream",
     "text": [
      "[(1, 2), (1, 3), (1, 4), (1, 5), (1, 6), (1, 7), (1, 8), (1, 9), (1, 10), (1, 11), (1, 12), (1, 13), (1, 14), (1, 15), (1, 16), (1, 17), (1, 18), (1, 19), (2, 3), (2, 4), (2, 5), (2, 6), (2, 7), (2, 8), (2, 9), (2, 10), (2, 12), (2, 14), (2, 16), (2, 18), (3, 4), (3, 5), (3, 6), (3, 9), (3, 12), (3, 15), (3, 18), (4, 5), (4, 6), (4, 8), (4, 10), (4, 12), (4, 16), (5, 10), (5, 15), (6, 9), (6, 12), (6, 18), (7, 14), (8, 16), (9, 18)]\n"
     ]
    }
   ],
   "source": [
    "from functools import reduce\n",
    "from itertools import combinations\n",
    "\n",
    "def lcm(numbers):\n",
    "    return reduce(lcm_helper, numbers)\n",
    "\n",
    "def lcm_helper(a, b):\n",
    "    return ( a * b ) / gcd(a, b)\n",
    "\n",
    "def gcd(a, b):\n",
    "    a = int(a)\n",
    "    b = int(b)\n",
    "    while b:\n",
    "        a,b = b,a%b\n",
    "    return a\n",
    "\n",
    "numbers = list(range(1,20))\n",
    "lcm_pairs = [(pair, lcm(pair)) for pair in combinations(numbers, 2) if lcm(pair) <= 20]\n",
    "print(list(map(lambda x: x[0], lcm_pairs)))"
   ],
   "metadata": {
    "collapsed": false
   }
  },
  {
   "cell_type": "code",
   "execution_count": null,
   "outputs": [],
   "source": [],
   "metadata": {
    "collapsed": false
   }
  }
 ],
 "metadata": {
  "kernelspec": {
   "display_name": "Python 3",
   "language": "python",
   "name": "python3"
  },
  "language_info": {
   "codemirror_mode": {
    "name": "ipython",
    "version": 2
   },
   "file_extension": ".py",
   "mimetype": "text/x-python",
   "name": "python",
   "nbconvert_exporter": "python",
   "pygments_lexer": "ipython2",
   "version": "2.7.6"
  }
 },
 "nbformat": 4,
 "nbformat_minor": 0
}
