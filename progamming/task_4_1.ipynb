{
 "cells": [
  {
   "cell_type": "markdown",
   "metadata": {},
   "source": [
    "This notebook is only for calculating purposes of the matrix-vector multiplication $r^{t+1} = M \\cdot r^{t}$."
   ]
  },
  {
   "cell_type": "code",
   "execution_count": 8,
   "metadata": {},
   "outputs": [
    {
     "name": "stdout",
     "output_type": "stream",
     "text": [
      "[[0.33333333 0.5        0.        ]\n",
      " [0.33333333 0.         0.5       ]\n",
      " [0.33333333 0.5        0.5       ]]\n",
      "r plus 1\n",
      "[[0.27777778]\n",
      " [0.27777778]\n",
      " [0.44444444]]\n",
      "Norm\n",
      "0.22222222222222215\n",
      "r plus 1\n",
      "[[0.23148148]\n",
      " [0.31481481]\n",
      " [0.4537037 ]]\n",
      "Norm\n",
      "0.09259259259259259\n",
      "r plus 1\n",
      "[[0.2345679 ]\n",
      " [0.30401235]\n",
      " [0.46141975]]\n",
      "Norm\n",
      "0.02160493827160484\n"
     ]
    }
   ],
   "source": [
    "import numpy as np\n",
    "\n",
    "# a)\n",
    "\n",
    "M = np.array([[1/3, 1/3, 1/3], [1/2, 0, 1/2], [0, 1/2, 1/2]]).transpose()\n",
    "print(M)\n",
    "\n",
    "r = np.array([[1/3, 1/3, 1/3]]).transpose()\n",
    "r_plus = np.matmul(M,r)\n",
    "print('r plus 1')\n",
    "print(r_plus)\n",
    "\n",
    "while(np.linalg.norm((r - r_plus), ord=1) > 1/12):\n",
    "    print('Norm')\n",
    "    print(np.linalg.norm((r - r_plus), ord=1))\n",
    "    r = r_plus\n",
    "    r_plus = np.matmul(M, r)\n",
    "    print('r plus 1')\n",
    "    print(r_plus)\n",
    "\n",
    "\n",
    "print('Norm')\n",
    "print(np.linalg.norm((r - r_plus), ord=1))"
   ]
  },
  {
   "cell_type": "code",
   "execution_count": 9,
   "metadata": {},
   "outputs": [
    {
     "name": "stdout",
     "output_type": "stream",
     "text": [
      "[0.23076923 0.30769231 0.46153846]\n"
     ]
    }
   ],
   "source": [
    "# b)\n",
    "\n",
    "\n",
    "vec = np.array([1/2, 2/3, 1])\n",
    "\n",
    "print(vec/np.linalg.norm(vec, 1))"
   ]
  },
  {
   "cell_type": "code",
   "execution_count": 10,
   "metadata": {},
   "outputs": [
    {
     "name": "stdout",
     "output_type": "stream",
     "text": [
      "[[0.33333333 0.46666667 0.06666667]\n",
      " [0.33333333 0.06666667 0.46666667]\n",
      " [0.33333333 0.46666667 0.46666667]]\n",
      "r plus 1\n",
      "[[0.28888889]\n",
      " [0.28888889]\n",
      " [0.42222222]]\n",
      "Norm\n",
      "0.1777777777777778\n",
      "r plus 1\n",
      "[[0.25925926]\n",
      " [0.31259259]\n",
      " [0.42814815]]\n",
      "Norm\n",
      "0.059259259259259234\n"
     ]
    }
   ],
   "source": [
    "# c)\n",
    "\n",
    "M = np.array([[1/3, 1/3, 1/3], [1/2, 0, 1/2], [0, 1/2, 1/2]]).transpose()*0.8\n",
    "M_plus = np.full((3, 3), 1/3*0.2)\n",
    "M = M + M_plus\n",
    "\n",
    "print(M)\n",
    "\n",
    "r = np.array([[1/3, 1/3, 1/3]]).transpose()\n",
    "r_plus = np.matmul(M,r)\n",
    "print('r plus 1')\n",
    "print(r_plus)\n",
    "\n",
    "while(np.linalg.norm((r - r_plus), ord=1) > 1/12):\n",
    "    print('Norm')\n",
    "    print(np.linalg.norm((r - r_plus), ord=1))\n",
    "    r = r_plus\n",
    "    r_plus = np.matmul(M, r)\n",
    "    print('r plus 1')\n",
    "    print(r_plus)\n",
    "\n",
    "\n",
    "print('Norm')\n",
    "print(np.linalg.norm((r - r_plus), ord=1))"
   ]
  },
  {
   "cell_type": "code",
   "execution_count": 11,
   "metadata": {},
   "outputs": [
    {
     "name": "stdout",
     "output_type": "stream",
     "text": [
      "[0.25925926 0.30864198 0.43209877]\n"
     ]
    }
   ],
   "source": [
    "# d)\n",
    "\n",
    "\n",
    "vec = np.array([3/5, 5/7, 1])\n",
    "\n",
    "print(vec/np.linalg.norm(vec, 1))"
   ]
  }
 ],
 "metadata": {
  "kernelspec": {
   "display_name": "Python 3.10.2 64-bit",
   "language": "python",
   "name": "python3"
  },
  "language_info": {
   "codemirror_mode": {
    "name": "ipython",
    "version": 3
   },
   "file_extension": ".py",
   "mimetype": "text/x-python",
   "name": "python",
   "nbconvert_exporter": "python",
   "pygments_lexer": "ipython3",
   "version": "3.10.2"
  },
  "orig_nbformat": 4,
  "vscode": {
   "interpreter": {
    "hash": "369f2c481f4da34e4445cda3fffd2e751bd1c4d706f27375911949ba6bb62e1c"
   }
  }
 },
 "nbformat": 4,
 "nbformat_minor": 2
}
