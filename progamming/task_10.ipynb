{
 "cells": [
  {
   "cell_type": "code",
   "execution_count": 1,
   "metadata": {
    "collapsed": true
   },
   "outputs": [],
   "source": [
    "import os\n",
    "\n",
    "import networkx as nx\n",
    "import numpy as np\n",
    "import matplotlib.pyplot as plt\n",
    "import math\n",
    "from pyspark.sql import SparkSession\n",
    "from pyspark.sql.functions import regexp_replace,rand,col\n",
    "from pyspark.sql.types import StructType,StructField, StringType, IntegerType, DoubleType, TimestampType\n",
    "\n",
    "import warnings\n",
    "warnings.filterwarnings('ignore')"
   ]
  },
  {
   "cell_type": "markdown",
   "metadata": {
    "collapsed": false
   },
   "source": [
    "# Exercise 1"
   ]
  },
  {
   "cell_type": "code",
   "execution_count": 2,
   "metadata": {
    "collapsed": false
   },
   "outputs": [
    {
     "data": {
      "image/png": "[encoded data removed]",
      "text/plain": [
       "<Figure size 640x480 with 1 Axes>"
      ]
     },
     "metadata": {},
     "output_type": "display_data"
    }
   ],
   "source": [
    "G = nx.Graph()\n",
    "\n",
    "G.add_nodes_from(['1','2','3','4','a','b','c','d'])\n",
    "G.add_edges_from(\n",
    "    [('1', 'a'), ('1', 'c'), ('2', 'b'), ('3', 'b'), ('3', 'd'),\n",
    "     ('4', 'a')])\n",
    "\n",
    "\n",
    "nx.draw(G, with_labels=True)\n",
    "plt.show()"
   ]
  },
  {
   "cell_type": "markdown",
   "metadata": {
    "collapsed": false
   },
   "source": [
    "The matching can break depending on the order. The save approach is to first feed edges needed in the matching into the greedy algorithm.\n",
    "A possible ordering could be:\n",
    "(1,c) - (4,a) - (3,d) - (2,b) - (3,b) - (1,a)\n",
    "\n",
    "An ordering which does not return a perfect matching could for example start with the edges which are not part of the perfect matching:\n",
    "(3,b) - (1,a) - (1,c) - (4,a) - (3,d) - (2,b)"
   ]
  },
  {
   "cell_type": "markdown",
   "metadata": {
    "collapsed": false
   },
   "source": [
    "# Exercise 2"
   ]
  },
  {
   "cell_type": "markdown",
   "metadata": {
    "collapsed": false
   },
   "source": [
    "We have to show that the advertiser k with the highest budget has the largest value for $\\psi_k(q)$.\n",
    "Looking at the formula we have: $\\psi_k(q) = x_k(1-e^{-f_k})$ this can be simplified as by assumption\n",
    "$x_k=1$. Next one can look at the funktion of $1-e^{-f_k}$ and realize that the bigger $f_k$ is the bigger\n",
    "is the final value. Hence, one only needs to compare check if $f_k$ is bigger the greater the budget.\n",
    "$f_k =1 - \\frac{spent so far}{budget}$ this is bigger if the fraction is small.\n",
    "\n",
    "If an advertiser has more budget the fraction becomes smaller and hence he is preferred. Additionally,\n",
    "if an advertiser has not spent alot of money the fraction also becomes smaller. Hence, this works as required."
   ]
  },
  {
   "cell_type": "markdown",
   "metadata": {
    "collapsed": false
   },
   "source": [
    "# Exercise 3"
   ]
  },
  {
   "cell_type": "markdown",
   "metadata": {
    "collapsed": false
   },
   "source": [
    "Suppose we need 3 hash functions which hash to m buckets, hence we add mod m to all hashes. Additionally, we divide by some big prime.\n",
    "Lastly to differentiate alot we do some exponentials on some random integers:\n",
    "\n",
    "(1 -  random int a): h(x) = ((a * x¹) mod p ) mod m\n",
    "(2 -  random int b): h(x) = ((b * x²) mod p ) mod m\n",
    "(3 -  random int c): h(x) = ((c * x³) mod p ) mod m\n",
    "\n",
    "The exponential components should spread the inputs among very different ranges additionally."
   ]
  },
  {
   "cell_type": "markdown",
   "metadata": {
    "collapsed": false
   },
   "source": []
  },
  {
   "cell_type": "markdown",
   "metadata": {
    "collapsed": false
   },
   "source": [
    "# Exercise 4"
   ]
  },
  {
   "cell_type": "markdown",
   "metadata": {
    "collapsed": false
   },
   "source": [
    "### a)\n",
    "\n",
    "The formula from the lecture can be used with n=5 and m=1 giving\n",
    "\n",
    "1-(1-1/5)^(5*(1/5)) = 0.2\n",
    "\n",
    "### b)\n",
    "$h_1(1)=1$, $h_2(1)=0$\n",
    "\n",
    "$h_1(4)=4$, $h_2(4)=1$\n",
    "\n",
    "state of the bitbucket:\n",
    "b(0)=1\n",
    "b(1)=1\n",
    "b(2)=0\n",
    "b(3)=0\n",
    "b(4)=1\n",
    "\n",
    "h1 can hit all bites while h2 can only hit the odd ones. Hence, odd index bits are actually mor likely to be hit.\n",
    "\n",
    "### c)\n",
    "\n",
    "The probability of a false positive is: $1 - e^{\\frac{-m}{n}}=1 - e^{\\frac{-1}{5}}$ which is approximately 0.1812."
   ]
  },
  {
   "cell_type": "markdown",
   "metadata": {
    "collapsed": false
   },
   "source": [
    "# Exercise 5"
   ]
  },
  {
   "cell_type": "markdown",
   "metadata": {
    "collapsed": false
   },
   "source": [
    "### a)\n",
    "We need to determine for which k-values we have the lowest error rate after m/8 steps considering different array sizes.\n"
   ]
  },
  {
   "cell_type": "code",
   "execution_count": 3,
   "metadata": {
    "collapsed": false
   },
   "outputs": [],
   "source": [
    "def get_error_rate_func(n,m):\n",
    "    # we use the formula from the lecture\n",
    "    function = lambda k: math.pow((1 - math.pow(math.e,((-k*m) / n))),k)\n",
    "    return function"
   ]
  },
  {
   "cell_type": "code",
   "execution_count": 4,
   "metadata": {
    "collapsed": false
   },
   "outputs": [
    {
     "name": "stdout",
     "output_type": "stream",
     "text": [
      "Probing for n of size :1*m\n",
      "0.11750309741540454\n",
      "Probing for n of size :2*m\n",
      "0.06058693718652419\n",
      "Probing for n of size :3*m\n",
      "0.040810542890861834\n",
      "Probing for n of size :4*m\n",
      "0.03076676552365587\n",
      "Probing for n of size :5*m\n",
      "0.024690087971667385\n",
      "Probing for n of size :6*m\n",
      "0.02061781866875978\n",
      "Probing for n of size :7*m\n",
      "0.017698648900262293\n",
      "Probing for n of size :8*m\n",
      "0.015503562994591547\n",
      "Probing for n of size :9*m\n",
      "0.013792883256083743\n",
      "Probing for n of size :10*m\n",
      "0.012422199506118559\n",
      "Probing for n of size :11*m\n",
      "0.011299314123332849\n",
      "Probing for n of size :12*m\n",
      "0.01036260108500342\n",
      "Probing for n of size :13*m\n",
      "0.009569304615308916\n",
      "Probing for n of size :14*m\n",
      "0.008888830100408085\n",
      "Probing for n of size :15*m\n",
      "0.008298707361124036\n",
      "Probing for n of size :16*m\n",
      "0.007782061739756485\n",
      "Probing for n of size :17*m\n",
      "0.007325974439920335\n",
      "Probing for n of size :18*m\n",
      "0.006920387509683934\n",
      "Probing for n of size :19*m\n",
      "0.0065573534751627305\n",
      "Probing for n of size :20*m\n",
      "0.006230509376605298\n"
     ]
    },
    {
     "data": {
      "image/png": "[encoded data removed]",
      "text/plain": [
       "<Figure size 640x480 with 1 Axes>"
      ]
     },
     "metadata": {},
     "output_type": "display_data"
    }
   ],
   "source": [
    "# let's define the number of steps to be 100 = m/8\n",
    "steps = 1000\n",
    "\n",
    "# hence we know that m is 8*steps\n",
    "m = steps * 8\n",
    "\n",
    "# next we can define the different sizes of bit arrays fow which we probe\n",
    "n_s = np.arange(1,21,1)\n",
    "n_s = n_s * m\n",
    "\n",
    "# lastly we can define for which k's we are going to probe\n",
    "k_s = np.arange(1,300,1)\n",
    "\n",
    "x=1\n",
    "# actual probing and plotting\n",
    "for n in n_s:\n",
    "    print(\"Probing for n of size :\" +str(x)+\"*m\")\n",
    "    calculator_function = get_error_rate_func(n,steps)\n",
    "    print(calculator_function(1))\n",
    "    error_rates=[]\n",
    "    for k in k_s:\n",
    "        error_rates.append(calculator_function(k))\n",
    "\n",
    "    plt.plot(k_s,error_rates)\n",
    "    x+=1\n"
   ]
  },
  {
   "cell_type": "markdown",
   "metadata": {
    "collapsed": false
   },
   "source": [
    "Functions of lower m's reach their local minimum earlier and scale at an earlier point. However, even for large values of m large k's do not provide a significant improvement as the local minimum is barly better than on reached for even quite low k. Meaning fo k~6 a good value is reached for all functions"
   ]
  },
  {
   "cell_type": "markdown",
   "metadata": {
    "collapsed": false
   },
   "source": [
    "### b)"
   ]
  },
  {
   "cell_type": "code",
   "execution_count": 5,
   "metadata": {
    "collapsed": false
   },
   "outputs": [
    {
     "name": "stdout",
     "output_type": "stream",
     "text": [
      "For one percent the following results were found:\n",
      "n: 1600\n",
      "k: 3\n",
      "For point five percent the following results were found:\n",
      "n: 1600\n",
      "k: 3\n",
      "For point one percent the following results were found:\n",
      "n: 1600\n",
      "k: 6\n"
     ]
    }
   ],
   "source": [
    "# let's define the number of steps to be 100 = m/8\n",
    "steps = 100\n",
    "\n",
    "# hence we know that m is 8*steps\n",
    "m = steps * 8\n",
    "\n",
    "# next we can define the different sizes of bit arrays fow which we probe\n",
    "n_s = np.arange(1,100,1)\n",
    "n_s = n_s * m\n",
    "\n",
    "# lastly we can define for which k's we are going to probe\n",
    "k_s = np.arange(1,300,1)\n",
    "\n",
    "x=1\n",
    "\n",
    "smallest_n_one_percent =        1000000\n",
    "smallest_n_point_five_percent = 1000000\n",
    "smallest_n_point_one_percent  = 1000000\n",
    "\n",
    "smallest_k_one_percent =        1000000\n",
    "smallest_k_point_five_percent = 1000000\n",
    "smallest_k_point_one_percent  = 1000000\n",
    "# actual probing and plotting\n",
    "for n in n_s:\n",
    "    calculator_function = get_error_rate_func(n,steps)\n",
    "    for k in k_s:\n",
    "        error_rate = calculator_function(k)\n",
    "        if error_rate < 0.01:\n",
    "            if n <smallest_n_one_percent:\n",
    "                smallest_n_one_percent=n\n",
    "                smallest_k_one_percent=k\n",
    "\n",
    "            if error_rate < 0.005:\n",
    "                if n <smallest_n_point_five_percent:\n",
    "                    smallest_n_point_five_percent=n\n",
    "                    smallest_k_point_five_percent=k\n",
    "\n",
    "            if error_rate < 0.001:\n",
    "                if n <smallest_n_point_one_percent:\n",
    "                    smallest_n_point_one_percent=n\n",
    "                    smallest_k_point_one_percent=k\n",
    "\n",
    "print(\"For one percent the following results were found:\")\n",
    "print(\"n: \"+str(smallest_n_one_percent))\n",
    "print(\"k: \"+str(smallest_k_one_percent))\n",
    "\n",
    "print(\"For point five percent the following results were found:\")\n",
    "print(\"n: \"+str(smallest_n_point_five_percent))\n",
    "print(\"k: \"+str(smallest_k_point_five_percent))\n",
    "\n",
    "print(\"For point one percent the following results were found:\")\n",
    "print(\"n: \"+str(smallest_n_point_one_percent))\n",
    "print(\"k: \"+str(smallest_k_point_one_percent))\n"
   ]
  },
  {
   "cell_type": "markdown",
   "metadata": {
    "collapsed": false
   },
   "source": [
    "# Exercise 6"
   ]
  },
  {
   "cell_type": "markdown",
   "metadata": {
    "collapsed": false
   },
   "source": [
    "By result of the lecture we know the probability with wich a error occurs in any of the individual arrays.\n",
    "It is for n' = n/k :\n",
    "$1-e^{-m/(n/k)}$\n",
    "Additionally we know that this has to be true for all k arrays at the same time hence:\n",
    "$(1-e^{-m/(n/k)})^k$\n",
    "Solving using the laws of exponential gives:\n",
    "$(1-e^{-mk/n}) $\n",
    "this is exactly the same as what we covered in the lecture for k hash functions into the same array."
   ]
  },
  {
   "cell_type": "markdown",
   "metadata": {
    "collapsed": false
   },
   "source": [
    "# Exercise 7 -- skiped for now"
   ]
  },
  {
   "attachments": {},
   "cell_type": "markdown",
   "metadata": {
    "collapsed": false
   },
   "source": [
    "# Exercise 8\n",
    "\n",
    "### a)\n",
    "The key attribute is the university ID. For each courseID we count how many studentIDs are associated and thus calculate the average for all courses.\n",
    "\n",
    "### b)\n",
    "The key attribute is the studentID along with the grade attribute. We look for tuples with the grade == 2.0 and see which fraction of all tuples are such.\n",
    "\n",
    "### c)\n",
    "The key attribute is the courseID, but in dependence with the university ID. This is to ensure that we calculate each course correctly. And of course we look at all tuples where the attribute grade == 1.7."
   ]
  },
  {
   "cell_type": "markdown",
   "metadata": {
    "collapsed": false
   },
   "source": [
    "# Exercise 9"
   ]
  },
  {
   "cell_type": "markdown",
   "metadata": {
    "collapsed": false
   },
   "source": [
    "First we create a context and session to work with"
   ]
  },
  {
   "cell_type": "code",
   "execution_count": 6,
   "metadata": {
    "collapsed": false
   },
   "outputs": [
    {
     "name": "stdout",
     "output_type": "stream",
     "text": [
      "23/01/23 15:47:15 WARN Utils: Your hostname, jakob-ThinkPad-E15-Gen-4 resolves to a loopback address: 127.0.1.1; using 147.142.138.118 instead (on interface wlp3s0)\n",
      "23/01/23 15:47:15 WARN Utils: Set SPARK_LOCAL_IP if you need to bind to another address\n"
     ]
    },
    {
     "name": "stderr",
     "output_type": "stream",
     "text": [
      "Setting default log level to \"WARN\".\n",
      "To adjust logging level use sc.setLogLevel(newLevel). For SparkR, use setLogLevel(newLevel).\n"
     ]
    },
    {
     "name": "stdout",
     "output_type": "stream",
     "text": [
      "23/01/23 15:47:15 WARN NativeCodeLoader: Unable to load native-hadoop library for your platform... using builtin-java classes where applicable\n"
     ]
    }
   ],
   "source": [
    "spark = SparkSession.builder.appName(\"HelloWorld\").getOrCreate()\n",
    "sc = spark.sparkContext"
   ]
  },
  {
   "cell_type": "markdown",
   "metadata": {
    "collapsed": false
   },
   "source": [
    "Next we want to define our subroutine for reading in a file"
   ]
  },
  {
   "cell_type": "code",
   "execution_count": 7,
   "metadata": {
    "collapsed": false
   },
   "outputs": [],
   "source": [
    "def read_in_ec2_file(path):\n",
    "    df = spark.read.csv(path, sep='\\t', header=True)\n",
    "    df = df.drop(\"Type\")\n",
    "    df = df.withColumn(\"Price\",df.Price.cast(DoubleType()))\n",
    "    df = df.withColumn(\"Timestamp\",df.Timestamp.cast(TimestampType()))\n",
    "    return df"
   ]
  },
  {
   "cell_type": "markdown",
   "metadata": {
    "collapsed": false
   },
   "source": [
    "The above implementation was done as part of exercise 8 and was tested back then.\n",
    "\n",
    "## a)"
   ]
  },
  {
   "cell_type": "code",
   "execution_count": 8,
   "metadata": {
    "collapsed": false
   },
   "outputs": [],
   "source": [
    "### ----------------------------------------\n",
    "### This is where the new programming starts\n",
    "### ----------------------------------------\n",
    "def create_price_timeseries(dataframe):\n",
    "    price_time_series = {}\n",
    "\n",
    "    unique_pairs = dataframe.select([\"InstanceType\",\"ProductDescription\",\"AvailabilityZone\"]).distinct()\n",
    "    unique_pairs_collected = unique_pairs.collect()\n",
    "\n",
    "    for unique_pair in unique_pairs_collected:\n",
    "        #create the dataframe\n",
    "        time_series_dataframe = dataframe.filter((dataframe.InstanceType == unique_pair.InstanceType) & (dataframe.ProductDescription == unique_pair.ProductDescription) & (dataframe.AvailabilityZone == unique_pair.AvailabilityZone)).select(\"Timestamp\",\"Price\")\n",
    "\n",
    "        #create the dictionary key\n",
    "        dictionary_key = str(unique_pair.InstanceType)+str(unique_pair.ProductDescription)+str(unique_pair.AvailabilityZone)\n",
    "\n",
    "        price_time_series.update({dictionary_key:time_series_dataframe})\n",
    "\n",
    "    return price_time_series"
   ]
  },
  {
   "cell_type": "markdown",
   "metadata": {
    "collapsed": false
   },
   "source": [
    "Bellow a testing ground is added to verify the programm"
   ]
  },
  {
   "cell_type": "code",
   "execution_count": 9,
   "metadata": {
    "collapsed": false
   },
   "outputs": [
    {
     "name": "stdout",
     "output_type": "stream",
     "text": [
      "Reading in the file\n",
      "Printing its schema\n",
      "root\n",
      " |-- Price: double (nullable = true)\n",
      " |-- Timestamp: timestamp (nullable = true)\n",
      " |-- InstanceType: string (nullable = true)\n",
      " |-- ProductDescription: string (nullable = true)\n",
      " |-- AvailabilityZone: string (nullable = true)\n",
      "\n",
      "creating price-timerseries dictionary\n",
      "Showing some example from the map.\n",
      "Key used for the example: m5.24xlargeLinux/UNIXeu-central-1b\n",
      "+-------------------+-----+\n",
      "|          Timestamp|Price|\n",
      "+-------------------+-----+\n",
      "|2019-05-24 01:47:02|1.671|\n",
      "|2019-05-23 09:40:28|1.671|\n",
      "|2019-05-22 09:40:15|1.671|\n",
      "|2019-05-21 13:46:44|1.671|\n",
      "|2019-05-20 22:33:18|1.671|\n",
      "|2019-05-19 22:32:47|1.671|\n",
      "|2019-05-18 22:32:37|1.671|\n",
      "|2019-05-17 22:31:53|1.671|\n",
      "|2019-05-16 22:31:25|1.671|\n",
      "|2019-05-15 22:30:42|1.671|\n",
      "|2019-05-14 22:30:34|1.671|\n",
      "|2019-05-14 20:33:31|1.671|\n",
      "|2019-05-13 20:32:48|1.671|\n",
      "|2019-05-13 00:32:47|1.671|\n",
      "|2019-05-12 04:33:01|1.671|\n",
      "|2019-05-11 13:33:28|1.671|\n",
      "|2019-05-10 13:32:45|1.671|\n",
      "|2019-05-10 12:35:57|1.671|\n",
      "|2019-05-09 12:35:20|1.671|\n",
      "|2019-05-08 12:34:45|1.671|\n",
      "+-------------------+-----+\n",
      "only showing top 20 rows\n",
      "\n"
     ]
    }
   ],
   "source": [
    "print(\"Reading in the file\")\n",
    "test_file_name = 'prices-eu-central-1-2019-05-24.txt.gz'\n",
    "file_path = 'data_sheet8/'\n",
    "full_test_path = file_path + test_file_name\n",
    "\n",
    "print(\"Printing its schema\")\n",
    "datafram_read = read_in_ec2_file(full_test_path)\n",
    "datafram_read.printSchema()\n",
    "\n",
    "print(\"creating price-timerseries dictionary\")\n",
    "dictionary_with_dataframes = create_price_timeseries(datafram_read)\n",
    "print(\"Showing some example from the map.\")\n",
    "print(\"Key used for the example: m5.24xlargeLinux/UNIXeu-central-1b\")\n",
    "dictionary_with_dataframes.get(\"m5.24xlargeLinux/UNIXeu-central-1b\").show()"
   ]
  },
  {
   "cell_type": "markdown",
   "metadata": {
    "collapsed": false
   },
   "source": [
    "### b)"
   ]
  },
  {
   "cell_type": "code",
   "execution_count": 14,
   "metadata": {
    "collapsed": false
   },
   "outputs": [],
   "source": [
    "def function_save_dataframe(dataframe, filename):\n",
    "    path= os.getcwd()+\"/fileStorrage/\"+filename.replace(\"/\",\"\")+\".csv\";\n",
    "    # the conversion to pandas is necessary as we do not want to work with all these folders\n",
    "    # which also makes the append mode not work\n",
    "    dataframe.toPandas().to_csv(path,mode='a', header=True)"
   ]
  },
  {
   "cell_type": "code",
   "execution_count": 11,
   "metadata": {
    "collapsed": false
   },
   "outputs": [
    {
     "name": "stdout",
     "output_type": "stream",
     "text": [
      "Reading in the file\n",
      "Printing its schema\n",
      "root\n",
      " |-- Price: double (nullable = true)\n",
      " |-- Timestamp: timestamp (nullable = true)\n",
      " |-- InstanceType: string (nullable = true)\n",
      " |-- ProductDescription: string (nullable = true)\n",
      " |-- AvailabilityZone: string (nullable = true)\n",
      "\n",
      "creating price-timerseries dictionary\n",
      "Showing some example from the map.\n",
      "Key used for the example: m5.24xlargeLinux/UNIXeu-central-1b\n",
      "+-------------------+-----+\n",
      "|          Timestamp|Price|\n",
      "+-------------------+-----+\n",
      "|2019-05-24 01:47:02|1.671|\n",
      "|2019-05-23 09:40:28|1.671|\n",
      "|2019-05-22 09:40:15|1.671|\n",
      "|2019-05-21 13:46:44|1.671|\n",
      "|2019-05-20 22:33:18|1.671|\n",
      "|2019-05-19 22:32:47|1.671|\n",
      "|2019-05-18 22:32:37|1.671|\n",
      "|2019-05-17 22:31:53|1.671|\n",
      "|2019-05-16 22:31:25|1.671|\n",
      "|2019-05-15 22:30:42|1.671|\n",
      "|2019-05-14 22:30:34|1.671|\n",
      "|2019-05-14 20:33:31|1.671|\n",
      "|2019-05-13 20:32:48|1.671|\n",
      "|2019-05-13 00:32:47|1.671|\n",
      "|2019-05-12 04:33:01|1.671|\n",
      "|2019-05-11 13:33:28|1.671|\n",
      "|2019-05-10 13:32:45|1.671|\n",
      "|2019-05-10 12:35:57|1.671|\n",
      "|2019-05-09 12:35:20|1.671|\n",
      "|2019-05-08 12:34:45|1.671|\n",
      "+-------------------+-----+\n",
      "only showing top 20 rows\n",
      "\n"
     ]
    }
   ],
   "source": [
    "print(\"Reading in the file\")\n",
    "test_file_name = 'prices-eu-central-1-2019-05-24.txt.gz'\n",
    "file_path = 'data_sheet8/'\n",
    "full_test_path = file_path + test_file_name\n",
    "\n",
    "print(\"Printing its schema\")\n",
    "datafram_read = read_in_ec2_file(full_test_path)\n",
    "datafram_read.printSchema()\n",
    "\n",
    "print(\"creating price-timerseries dictionary\")\n",
    "dictionary_with_dataframes = create_price_timeseries(datafram_read)\n",
    "print(\"Showing some example from the map.\")\n",
    "print(\"Key used for the example: m5.24xlargeLinux/UNIXeu-central-1b\")\n",
    "dictionary_with_dataframes.get(\"m5.24xlargeLinux/UNIXeu-central-1b\").show()\n",
    "\n",
    "function_save_dataframe(dictionary_with_dataframes.get(\"m5.24xlargeLinux/UNIXeu-central-1b\"),\"m5.24xlargeLinux/UNIXeu-central-1b\")"
   ]
  },
  {
   "cell_type": "markdown",
   "metadata": {
    "collapsed": false
   },
   "source": [
    "This has been tested for a single file now we only need to create a final script which combines all of the above.\n",
    "\n",
    "### c)"
   ]
  },
  {
   "cell_type": "code",
   "execution_count": 15,
   "metadata": {
    "collapsed": false
   },
   "outputs": [
    {
     "name": "stdout",
     "output_type": "stream",
     "text": [
      "Reading in the file: prices-sa-east-1-2019-05-10.txt.gz\n",
      "creating price-timerseries dictionary\n",
      "Reading in the file: prices-eu-central-1-2019-05-03.txt.gz\n",
      "creating price-timerseries dictionary\n",
      "Reading in the file: prices-ca-central-1-2019-05-24.txt.gz\n",
      "creating price-timerseries dictionary\n",
      "Reading in the file: prices-eu-west-2-2019-05-10.txt.gz\n",
      "creating price-timerseries dictionary\n",
      "Reading in the file: prices-eu-west-3-2019-05-24.txt.gz\n",
      "creating price-timerseries dictionary\n",
      "Reading in the file: prices-sa-east-1-2019-05-24.txt.gz\n",
      "creating price-timerseries dictionary\n",
      "Reading in the file: prices-eu-west-1-2019-05-17.txt.gz\n",
      "creating price-timerseries dictionary\n",
      "Reading in the file: prices-eu-central-1-2019-05-24.txt.gz\n",
      "creating price-timerseries dictionary\n",
      "Reading in the file: prices-eu-west-1-2019-05-03.txt.gz\n",
      "creating price-timerseries dictionary\n",
      "Reading in the file: prices-eu-west-2-2019-05-24.txt.gz\n",
      "creating price-timerseries dictionary\n",
      "Reading in the file: prices-eu-central-1-2019-05-10.txt.gz\n",
      "creating price-timerseries dictionary\n",
      "Reading in the file: prices-eu-west-3-2019-05-03.txt.gz\n",
      "creating price-timerseries dictionary\n",
      "Reading in the file: prices-eu-north-1-2019-05-03.txt.gz\n",
      "creating price-timerseries dictionary\n",
      "Reading in the file: prices-ca-central-1-2019-05-03.txt.gz\n",
      "creating price-timerseries dictionary\n",
      "Reading in the file: prices-eu-north-1-2019-05-10.txt.gz\n",
      "creating price-timerseries dictionary\n",
      "Reading in the file: prices-eu-west-3-2019-05-10.txt.gz\n",
      "creating price-timerseries dictionary\n",
      "Reading in the file: prices-eu-north-1-2019-05-17.txt.gz\n",
      "creating price-timerseries dictionary\n",
      "Reading in the file: prices-ca-central-1-2019-05-17.txt.gz\n",
      "creating price-timerseries dictionary\n",
      "Reading in the file: prices-ca-central-1-2019-05-10.txt.gz\n",
      "creating price-timerseries dictionary\n",
      "Reading in the file: prices-eu-west-3-2019-05-17.txt.gz\n",
      "creating price-timerseries dictionary\n",
      "Reading in the file: prices-eu-west-2-2019-05-17.txt.gz\n",
      "creating price-timerseries dictionary\n",
      "Reading in the file: prices-sa-east-1-2019-05-17.txt.gz\n",
      "creating price-timerseries dictionary\n",
      "Reading in the file: prices-eu-central-1-2019-05-17.txt.gz\n",
      "creating price-timerseries dictionary\n",
      "Reading in the file: prices-sa-east-1-2019-05-03.txt.gz\n",
      "creating price-timerseries dictionary\n",
      "Reading in the file: prices-eu-west-1-2019-05-10.txt.gz\n",
      "creating price-timerseries dictionary\n",
      "Reading in the file: prices-eu-west-1-2019-05-24.txt.gz\n",
      "creating price-timerseries dictionary\n",
      "Reading in the file: prices-eu-west-2-2019-05-03.txt.gz\n",
      "creating price-timerseries dictionary\n",
      "Reading in the file: prices-eu-north-1-2019-05-24.txt.gz\n",
      "creating price-timerseries dictionary\n"
     ]
    }
   ],
   "source": [
    "file_path = 'data_sheet8/'\n",
    "files = os.listdir(os.getcwd()+\"/data_sheet8\")\n",
    "filesToDelete = os.listdir(os.getcwd()+\"/fileStorrage\")\n",
    "\n",
    "for file in filesToDelete:\n",
    "    os.remove(os.getcwd()+\"/fileStorrage/\"+file)\n",
    "\n",
    "for filename in files:\n",
    "    print(\"Reading in the file: \"+str(filename))\n",
    "    full_test_path = file_path + filename\n",
    "\n",
    "    datafram_read = read_in_ec2_file(full_test_path)\n",
    "\n",
    "    print(\"creating price-timerseries dictionary\")\n",
    "    dictionary_with_dataframes = create_price_timeseries(datafram_read)\n",
    "    for key in dictionary_with_dataframes.keys():\n",
    "        if key == \"m4.16xlargeLinux/UNIXca-central-1a\":\n",
    "            function_save_dataframe(dictionary_with_dataframes.get(key),key)"
   ]
  },
  {
   "cell_type": "markdown",
   "metadata": {
    "collapsed": false
   },
   "source": [
    "This would have probably run for over an hour hence the writing is only performed for the\n",
    "appropriate setting. As most of the time was used for all og the required IO operations needed.\n",
    "\n",
    "So lastly the correct result need to be extracted from the file."
   ]
  },
  {
   "cell_type": "code",
   "execution_count": 27,
   "metadata": {
    "collapsed": false
   },
   "outputs": [
    {
     "name": "stdout",
     "output_type": "stream",
     "text": [
      "The amount of obtained elements is: 618\n",
      "The averrage price obtained is: \n",
      "+-----------------+\n",
      "|       avg(Price)|\n",
      "+-----------------+\n",
      "|1.373579024390249|\n",
      "+-----------------+\n",
      "\n"
     ]
    }
   ],
   "source": [
    "dataframe = df = spark.read.csv(os.getcwd()+\"/fileStorrage/m4.16xlargeLinuxUNIXca-central-1a.csv\", sep=',', header=True)\n",
    "print(\"The amount of obtained elements is: \"+str(dataframe.count()))\n",
    "print(\"The averrage price obtained is: \")\n",
    "df.agg({\"Price\":'avg'}).show()\n"
   ]
  },
  {
   "cell_type": "markdown",
   "metadata": {},
   "source": []
  }
 ],
 "metadata": {
  "kernelspec": {
   "display_name": "Python 3",
   "language": "python",
   "name": "python3"
  },
  "language_info": {
   "codemirror_mode": {
    "name": "ipython",
    "version": 2
   },
   "file_extension": ".py",
   "mimetype": "text/x-python",
   "name": "python",
   "nbconvert_exporter": "python",
   "pygments_lexer": "ipython2",
   "version": "2.7.6"
  }
 },
 "nbformat": 4,
 "nbformat_minor": 0
}
