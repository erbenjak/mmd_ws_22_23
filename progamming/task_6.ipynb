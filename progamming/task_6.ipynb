{
 "cells": [
  {
   "cell_type": "code",
   "execution_count": 9,
   "metadata": {
    "collapsed": true
   },
   "outputs": [],
   "source": [
    "import numpy as np\n",
    "from pyspark.sql import SparkSession"
   ]
  },
  {
   "cell_type": "code",
   "execution_count": 10,
   "outputs": [],
   "source": [
    "def init_spark():\n",
    "    spark = SparkSession.builder.appName(\"HelloWorld\").getOrCreate()\n",
    "    sc = spark.sparkContext\n",
    "    return spark, sc"
   ],
   "metadata": {
    "collapsed": false
   }
  },
  {
   "cell_type": "markdown",
   "source": [
    "# Exercise 1"
   ],
   "metadata": {
    "collapsed": false
   }
  },
  {
   "cell_type": "markdown",
   "source": [],
   "metadata": {
    "collapsed": false
   }
  },
  {
   "cell_type": "markdown",
   "source": [
    "# Exercise 2"
   ],
   "metadata": {
    "collapsed": false
   }
  },
  {
   "cell_type": "markdown",
   "source": [
    "First all the datasets are loaded. We converted the grundgesetzt to a txt-file. As well as created 9 other txt-files to test\n",
    "our process on (Movie-scripts of:Harry Potter1-7 + Shrek1-2)."
   ],
   "metadata": {
    "collapsed": false
   }
  },
  {
   "cell_type": "code",
   "execution_count": 23,
   "outputs": [],
   "source": [
    "spark, sc = init_spark()\n",
    "\n",
    "df_grundgesetz = spark.read.text(\"data_sheet6/grundgesetz.txt\",wholetext=True)\n",
    "df_hp1 = spark.read.text(\"data_sheet6/hp1.txt\",wholetext=True)\n",
    "df_hp2 = spark.read.text(\"data_sheet6/hp2.txt\",wholetext=True)\n",
    "df_hp3 = spark.read.text(\"data_sheet6/hp3.txt\",wholetext=True)\n",
    "df_hp4 = spark.read.text(\"data_sheet6/hp4.txt\",wholetext=True)\n",
    "df_hp5 = spark.read.text(\"data_sheet6/hp5.txt\",wholetext=True)\n",
    "df_hp6 = spark.read.text(\"data_sheet6/hp6.txt\",wholetext=True)\n",
    "df_hp7 = spark.read.text(\"data_sheet6/hp7.txt\",wholetext=True)\n",
    "df_shrek1 = spark.read.text(\"data_sheet6/shrek.txt\",wholetext=True)\n",
    "df_shrek2 = spark.read.text(\"data_sheet6/shrek2.txt\",wholetext=True)"
   ],
   "metadata": {
    "collapsed": false
   }
  }
 ],
 "metadata": {
  "kernelspec": {
   "display_name": "Python 3 (ipykernel)",
   "language": "python",
   "name": "python3"
  },
  "language_info": {
   "codemirror_mode": {
    "name": "ipython",
    "version": 3
   },
   "file_extension": ".py",
   "mimetype": "text/x-python",
   "name": "python",
   "nbconvert_exporter": "python",
   "pygments_lexer": "ipython3",
   "version": "3.10.6"
  }
 },
 "nbformat": 4,
 "nbformat_minor": 1
}
