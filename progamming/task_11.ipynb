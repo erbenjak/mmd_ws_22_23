{
 "cells": [
  {
   "cell_type": "code",
   "execution_count": 34,
   "metadata": {
    "collapsed": true
   },
   "outputs": [],
   "source": [
    "import os\n",
    "import random\n",
    "\n",
    "import networkx as nx\n",
    "import numpy as np\n",
    "import matplotlib.pyplot as plt\n",
    "import math\n",
    "from pyspark.sql import SparkSession\n",
    "from pyspark.sql.functions import regexp_replace,rand,col\n",
    "from pyspark.sql.types import StructType,StructField, StringType, IntegerType, DoubleType, TimestampType\n",
    "\n",
    "import warnings"
   ]
  },
  {
   "cell_type": "markdown",
   "source": [
    "# Exercise 1"
   ],
   "metadata": {
    "collapsed": false
   }
  },
  {
   "cell_type": "code",
   "execution_count": 30,
   "outputs": [],
   "source": [
    "def calculate_trailing_zeros(hash_function, value):\n",
    "    result = hash_function(value)\n",
    "    bit_array = f'{result:05b}'\n",
    "    for i in range(0,5):\n",
    "        if bit_array[4-i] == '1':\n",
    "            return i"
   ],
   "metadata": {
    "collapsed": false
   }
  },
  {
   "cell_type": "code",
   "execution_count": 33,
   "outputs": [
    {
     "name": "stdout",
     "output_type": "stream",
     "text": [
      "Results for function 1\n",
      "[0, 0, 0, 0, 0, 0, 0, 0, 0]\n",
      "Results for function 2\n",
      "[4, 1, 0, 1, 1, 1, 0, 0, 1]\n",
      "Results for function 3\n",
      "[2, 2, 4, 2, 2, 2, 3, 3, 2]\n"
     ]
    }
   ],
   "source": [
    "input_stream = [3,1,4,1,5,9,2,6,5]\n",
    "hash_func_1 = lambda x : (2*x + 1) % 32\n",
    "hash_func_2 = lambda x : (3*x + 7) % 32\n",
    "hash_func_3 = lambda x : (4*x) % 32\n",
    "\n",
    "values_func_1=[]\n",
    "values_func_2=[]\n",
    "values_func_3=[]\n",
    "\n",
    "for x in input_stream:\n",
    "    values_func_1.append(calculate_trailing_zeros(hash_func_1,x))\n",
    "    values_func_2.append(calculate_trailing_zeros(hash_func_2,x))\n",
    "    values_func_3.append(calculate_trailing_zeros(hash_func_3,x))\n",
    "\n",
    "print(\"Results for function 1\")\n",
    "print(values_func_1)\n",
    "print(\"Results for function 2\")\n",
    "print(values_func_2)\n",
    "print(\"Results for function 3\")\n",
    "print(values_func_3)"
   ],
   "metadata": {
    "collapsed": false
   }
  },
  {
   "cell_type": "markdown",
   "source": [
    "# Bonus point question:\n",
    "By using mod 2^x one cuts of the upper part of the binary representation of the bit array produced initially.\n",
    "Therefore, the mod does not impact the spread of the values, but only the initial function has any impact."
   ],
   "metadata": {
    "collapsed": false
   }
  },
  {
   "cell_type": "markdown",
   "source": [
    "# Exercise 2\n",
    "\n",
    "We have the following input stream: 3,4,1,3,4,2,1,2\n",
    "\n",
    "Let's now construct the Xi's:\n",
    "$X_{1}: {X_{1}.el=3, X_{1}.val=2}$\n",
    "$X_{2}: {X_{2}.el=4, X_{2}.val=2}$\n",
    "$X_{3}: {X_{3}.el=1, X_{3}.val=2}$\n",
    "$X_{4}: {X_{4}.el=3, X_{4}.val=1}$\n",
    "$X_{5}: {X_{5}.el=4, X_{5}.val=1}$\n",
    "$X_{6}: {X_{6}.el=2, X_{6}.val=2}$\n",
    "$X_{7}: {X_{7}.el=1, X_{7}.val=1}$\n",
    "$X_{8}: {X_{8}.el=2, X_{8}.val=1}$\n",
    "\n",
    "No because then we could simply count the momentum for each different element.\n",
    "The AMS algorithm is used when there is not enough storage to do so."
   ],
   "metadata": {
    "collapsed": false
   }
  },
  {
   "cell_type": "markdown",
   "source": [
    "# Exercise 3"
   ],
   "metadata": {
    "collapsed": false
   }
  },
  {
   "cell_type": "code",
   "execution_count": 90,
   "outputs": [],
   "source": [
    "# n = length of the stream, k = degree of the moment(valid values:1,2,3), v = amount of variables to use\n",
    "def compute_moment_ams(input_stream, n, k, v):\n",
    "\n",
    "    if k<1 or k > 3 or v > n:\n",
    "        print(\"illegal configuration can not compute a moment\")\n",
    "        return\n",
    "\n",
    "    x_loc = random.sample(range(0, n), v)\n",
    "    x_el =[]\n",
    "    x_val=[]\n",
    "    for i in range (0,len(input_stream)):\n",
    "        indices = [j for j, x in enumerate(x_el) if x == input_stream[i]]\n",
    "        for index in indices:\n",
    "            x_val[index]+=1\n",
    "\n",
    "        if i in x_loc:\n",
    "            x_el.append(input_stream[i])\n",
    "            x_val.append(1)\n",
    "\n",
    "    # in order to estimate the k-th moment the formula from lecture 13 slide 25 is used:\n",
    "    moments = []\n",
    "    for c in x_val:\n",
    "        moments.append(n*(math.pow(c,k) -math.pow((c-1),k)))\n",
    "\n",
    "    moment = np.mean(np.array(moments))\n",
    "    return moment,x_val"
   ],
   "metadata": {
    "collapsed": false
   }
  },
  {
   "cell_type": "markdown",
   "source": [
    "### a)"
   ],
   "metadata": {
    "collapsed": false
   }
  },
  {
   "cell_type": "code",
   "execution_count": 93,
   "outputs": [
    {
     "name": "stdout",
     "output_type": "stream",
     "text": [
      "Computed the following moment for: k=1 , v=1\n",
      "15.0\n",
      "Computed the following moment for: k=1 , v=3\n",
      "15.0\n",
      "Computed the following moment for: k=1 , v=5\n",
      "15.0\n",
      "Computed the following moment for: k=1 , v=7\n",
      "15.0\n",
      "Computed the following moment for: k=1 , v=9\n",
      "15.0\n",
      "Computed the following moment for: k=2 , v=1\n",
      "15.0\n",
      "Computed the following moment for: k=2 , v=3\n",
      "75.0\n",
      "Computed the following moment for: k=2 , v=5\n",
      "57.0\n",
      "Computed the following moment for: k=2 , v=7\n",
      "66.42857142857143\n",
      "Computed the following moment for: k=2 , v=9\n",
      "65.0\n",
      "Computed the following moment for: k=3 , v=1\n",
      "285.0\n",
      "Computed the following moment for: k=3 , v=3\n",
      "225.0\n",
      "Computed the following moment for: k=3 , v=5\n",
      "483.0\n",
      "Computed the following moment for: k=3 , v=7\n",
      "272.14285714285717\n",
      "Computed the following moment for: k=3 , v=9\n",
      "215.0\n"
     ]
    }
   ],
   "source": [
    "stream = ['a', 'b', 'c', 'b', 'd', 'a', 'c', 'd', 'a', 'b', 'd', 'c', 'a', 'a', 'b']\n",
    "ks = [1,2,3]\n",
    "vs = [1,3,5,7,9]\n",
    "n = 15\n",
    "\n",
    "for k in ks:\n",
    "    for v in vs:\n",
    "        moment, x_val= compute_moment_ams(stream, n, k, v)\n",
    "        print(\"Computed the following moment for: k=\"+str(k)+\" , v=\"+str(v))\n",
    "        print(moment)"
   ],
   "metadata": {
    "collapsed": false
   }
  },
  {
   "cell_type": "markdown",
   "source": [
    "### b)"
   ],
   "metadata": {
    "collapsed": false
   }
  },
  {
   "cell_type": "code",
   "execution_count": 113,
   "outputs": [
    {
     "name": "stdout",
     "output_type": "stream",
     "text": [
      "The exact 3rd moment is:\n",
      "397\n",
      "\n",
      "Using v=n we get a 3rd moment of:\n",
      "243.0\n",
      "This gives us a defiation of:\n",
      "0.6120906801007556\n",
      "\n",
      "Using v=9 we get a 3rd moment of:\n",
      "275.0\n",
      "This gives us a defiation of:\n",
      "0.6926952141057935\n"
     ]
    }
   ],
   "source": [
    "estimation_moment_1,x_val = compute_moment_ams(stream, n, 3, 1)\n",
    "estimation_moment_3,x_val = compute_moment_ams(stream, n, 3, 3)\n",
    "estimation_moment_5,x_val = compute_moment_ams(stream, n, 3, 5)\n",
    "estimation_moment_7,x_val = compute_moment_ams(stream, n, 3, 7)\n",
    "estimation_moment_9,x_val = compute_moment_ams(stream, n, 3, 9)\n",
    "estimation_moment_15,x_val = compute_moment_ams(stream, n, 3, 15)\n",
    "\n",
    "\n",
    "x_val = np.array(x_val)\n",
    "x_val = np.power(x_val,3)\n",
    "exact_moment = np.sum(x_val)\n",
    "\n",
    "print(\"The exact 3rd moment is:\")\n",
    "print(exact_moment)\n",
    "print()\n",
    "print(\"Using v=n we get a 3rd moment of:\")\n",
    "print(estimation_moment_15)\n",
    "print(\"This gives us a defiation of:\")\n",
    "print(estimation_moment_15/exact_moment)\n",
    "print()\n",
    "print(\"Using v=9 we get a 3rd moment of:\")\n",
    "print(estimation_moment_9)\n",
    "print(\"This gives us a defiation of:\")\n",
    "print(estimation_moment_9/exact_moment)"
   ],
   "metadata": {
    "collapsed": false
   }
  },
  {
   "cell_type": "markdown",
   "source": [
    "### c)\n",
    "Of course the estimation can only get better the more variables are used.\n",
    "Hence, a bigger v leads to a better estimation."
   ],
   "metadata": {
    "collapsed": false
   }
  },
  {
   "cell_type": "markdown",
   "source": [
    "# Exercise 4\n",
    "\n",
    "We can use the general formula from above and solve it:\n",
    "$f(c)=n*(c^4 -(c-1)^4)=n*(c^4 - ((c-1)^2 * (c-1)^2))=n*(c^4 - ((c^2-2c+1) * (c^2-2c+1))$\n",
    "$=-n + 4 c n - 6 c^2 n + 4 c^3 n$"
   ],
   "metadata": {
    "collapsed": false
   }
  },
  {
   "cell_type": "markdown",
   "source": [
    "# Exercise 5"
   ],
   "metadata": {
    "collapsed": false
   }
  }
 ],
 "metadata": {
  "kernelspec": {
   "display_name": "Python 3",
   "language": "python",
   "name": "python3"
  },
  "language_info": {
   "codemirror_mode": {
    "name": "ipython",
    "version": 2
   },
   "file_extension": ".py",
   "mimetype": "text/x-python",
   "name": "python",
   "nbconvert_exporter": "python",
   "pygments_lexer": "ipython2",
   "version": "2.7.6"
  }
 },
 "nbformat": 4,
 "nbformat_minor": 0
}
